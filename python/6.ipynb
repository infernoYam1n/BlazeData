{
 "cells": [
  {
   "cell_type": "markdown",
   "id": "a651d6ab",
   "metadata": {},
   "source": [
    "# Programming Fundamental\n"
   ]
  },
  {
   "cell_type": "code",
   "execution_count": 2,
   "id": "3e00468f",
   "metadata": {},
   "outputs": [
    {
     "name": "stdout",
     "output_type": "stream",
     "text": [
      "Hello world\n"
     ]
    }
   ],
   "source": [
    "print(\"Hello world\")"
   ]
  },
  {
   "cell_type": "code",
   "execution_count": 3,
   "id": "187614ff",
   "metadata": {},
   "outputs": [
    {
     "name": "stdout",
     "output_type": "stream",
     "text": [
      "7\n"
     ]
    }
   ],
   "source": [
    "print(5+2)"
   ]
  },
  {
   "cell_type": "code",
   "execution_count": 4,
   "id": "3aea3904",
   "metadata": {},
   "outputs": [
    {
     "name": "stdout",
     "output_type": "stream",
     "text": [
      "14\n"
     ]
    }
   ],
   "source": [
    "print(10-2+6)"
   ]
  },
  {
   "cell_type": "code",
   "execution_count": 5,
   "id": "927b09e9",
   "metadata": {},
   "outputs": [
    {
     "data": {
      "text/plain": [
       "13"
      ]
     },
     "execution_count": 5,
     "metadata": {},
     "output_type": "execute_result"
    }
   ],
   "source": [
    "4+9"
   ]
  },
  {
   "cell_type": "markdown",
   "id": "c836e2d0",
   "metadata": {},
   "source": [
    "simple interest\n"
   ]
  },
  {
   "cell_type": "code",
   "execution_count": 1,
   "id": "4b7b527c",
   "metadata": {},
   "outputs": [
    {
     "name": "stdout",
     "output_type": "stream",
     "text": [
      "simple interest 1.015\n"
     ]
    }
   ],
   "source": [
    "p=10.15\n",
    "r=5\n",
    "t=2\n",
    "si=(p*r*t)/100\n",
    "print(\"simple interest\",si)"
   ]
  },
  {
   "cell_type": "markdown",
   "id": "b63b02bd",
   "metadata": {},
   "source": [
    "input"
   ]
  },
  {
   "cell_type": "code",
   "execution_count": 1,
   "id": "b66c3d72",
   "metadata": {},
   "outputs": [],
   "source": [
    "\n",
    "name=input()"
   ]
  },
  {
   "cell_type": "code",
   "execution_count": 4,
   "id": "0037969a",
   "metadata": {},
   "outputs": [
    {
     "name": "stdout",
     "output_type": "stream",
     "text": [
      "hello ashabulgood morning\n"
     ]
    }
   ],
   "source": [
    "print(\"hello \"+name+\"good morning\")  #this is for good morning"
   ]
  },
  {
   "cell_type": "markdown",
   "id": "db0f6666",
   "metadata": {},
   "source": [
    "Data types\n"
   ]
  },
  {
   "cell_type": "code",
   "execution_count": 13,
   "id": "60b79f85",
   "metadata": {},
   "outputs": [
    {
     "name": "stdout",
     "output_type": "stream",
     "text": [
      "<class 'int'>\n",
      "<class 'float'>\n",
      "<class 'complex'>\n",
      "<class 'str'>\n",
      "<class 'bool'>\n",
      "<class 'list'>\n",
      "<class 'tuple'>\n",
      "<class 'set'>\n",
      "<class 'dict'>\n",
      "<class 'NoneType'>\n"
     ]
    }
   ],
   "source": [
    "a=100\n",
    "print(type(a)) \n",
    "\n",
    "b=100.15\n",
    "print(type(b))\n",
    "\n",
    "c=100+100.15j\n",
    "print(type(c))\n",
    "\n",
    "d=\"hello\"\n",
    "print(type(d))\n",
    "\n",
    "e=True\n",
    "print(type(e))\n",
    "\n",
    "f=[1,2,3,4,5]\n",
    "print(type(f))\n",
    "\n",
    "g=(1,2,3,4,5)\n",
    "print(type(g))\n",
    "\n",
    "h={1,2,3,4,5}\n",
    "print(type(h))\n",
    "\n",
    "i={1:\"one\",2:\"two\",3:\"three\"}\n",
    "print(type(i))\n",
    "\n",
    "n=None\n",
    "print(type(n))\n"
   ]
  },
  {
   "cell_type": "code",
   "execution_count": 9,
   "id": "c2050e52",
   "metadata": {},
   "outputs": [
    {
     "name": "stdout",
     "output_type": "stream",
     "text": [
      "True False\n",
      "True\n",
      "False\n"
     ]
    }
   ],
   "source": [
    "e=True\n",
    "f=False\n",
    "\n",
    "print(e, f)\n",
    "print(e or f) #or operator\n",
    "print(e and f) #and operator"
   ]
  },
  {
   "cell_type": "code",
   "execution_count": 15,
   "id": "d37c8597",
   "metadata": {},
   "outputs": [],
   "source": [
    "# variable name must always start with a letter or underscore\n",
    "# variable name can contain letters, digits and underscore\n",
    "# variable name should not start with a digit\n",
    "# variable name should not contain special characters like @, #, $, %, ^, &, *, (, ), etc.\n",
    "# variable name should not be a keyword or reserved word in python\n",
    "# variable name should be meaningful and descriptive\n",
    "\n",
    "# name-1 #invalid variable name\n",
    "# name@1 #invalid variable name\n",
    "# name 1 #invalid variable name\n",
    "# name-1 #invalid variable name\n",
    "# name_1 #valid variable name\n"
   ]
  },
  {
   "cell_type": "markdown",
   "id": "5190522b",
   "metadata": {},
   "source": [
    "Typecasting"
   ]
  },
  {
   "cell_type": "code",
   "execution_count": 17,
   "id": "a9c872c6",
   "metadata": {},
   "outputs": [
    {
     "name": "stdout",
     "output_type": "stream",
     "text": [
      "7\n"
     ]
    }
   ],
   "source": [
    "f=7.6\n",
    "a=int(f) #converting float to int\n",
    "print(a) #7"
   ]
  },
  {
   "cell_type": "code",
   "execution_count": 18,
   "id": "905d8c25",
   "metadata": {},
   "outputs": [
    {
     "name": "stdout",
     "output_type": "stream",
     "text": [
      "7.0\n"
     ]
    }
   ],
   "source": [
    "i=7\n",
    "print(float(i)) #7.0"
   ]
  },
  {
   "cell_type": "code",
   "execution_count": 23,
   "id": "9b6426f6",
   "metadata": {},
   "outputs": [
    {
     "name": "stdout",
     "output_type": "stream",
     "text": [
      "<class 'str'>\n",
      "537\n"
     ]
    }
   ],
   "source": [
    "s=\"537\"\n",
    "print(type(s)) #<class 'str'>\n",
    "print(int(s)) #537"
   ]
  },
  {
   "cell_type": "code",
   "execution_count": 3,
   "id": "4673ef39",
   "metadata": {},
   "outputs": [
    {
     "name": "stdout",
     "output_type": "stream",
     "text": [
      "<class 'str'>\n"
     ]
    },
    {
     "data": {
      "text/plain": [
       "'567'"
      ]
     },
     "execution_count": 3,
     "metadata": {},
     "output_type": "execute_result"
    }
   ],
   "source": [
    "a=567\n",
    "a1=str(a) #converting int to str\n",
    "print(type(a1)) #<class 'str'>\n",
    "a1"
   ]
  },
  {
   "cell_type": "markdown",
   "id": "35a49f09",
   "metadata": {},
   "source": [
    "Ceil-Floor-Round"
   ]
  },
  {
   "cell_type": "code",
   "execution_count": 8,
   "id": "4bfe674f",
   "metadata": {},
   "outputs": [
    {
     "name": "stdout",
     "output_type": "stream",
     "text": [
      "1\n",
      "Ceil: 2\n",
      "Floor: 1\n",
      "Round: 2\n"
     ]
    }
   ],
   "source": [
    "import math\n",
    "\n",
    "a = 1.5\n",
    "b = int(a)  # converting float to int\n",
    "print(b)  # 1\n",
    "\n",
    "# Using ceil and floor\n",
    "ceil_value = math.ceil(a)  # ceiling of a\n",
    "floor_value = math.floor(a)  # floor of a\n",
    "Round_value = round(a)  # rounding a\n",
    "\n",
    "print(\"Ceil:\", ceil_value)  # 2\n",
    "print(\"Floor:\", floor_value)  # 1\n",
    "print(\"Round:\", Round_value)  # 2\n"
   ]
  },
  {
   "cell_type": "markdown",
   "id": "92bef0f8",
   "metadata": {},
   "source": [
    "Operator"
   ]
  },
  {
   "cell_type": "code",
   "execution_count": 5,
   "id": "70f753a7",
   "metadata": {},
   "outputs": [],
   "source": [
    "a=5+2-1 #addition, subtraction\n",
    "b=5*2 #multiplication\n",
    "c=5/2 #division\n",
    "d=5//2 #floor division/ Division but only integer part\n",
    "e=5%2 #modulus/ remainder of division\n",
    "f=5**2 #exponentiation/ power of 5^2\n",
    "g=5**0.5 #square root of 5\n",
    "h=5**(1/2) #square root of 5"
   ]
  },
  {
   "cell_type": "code",
   "execution_count": 10,
   "id": "8d572dbf",
   "metadata": {},
   "outputs": [
    {
     "name": "stdout",
     "output_type": "stream",
     "text": [
      "1.5 1 2.5 2 1 25 2.23606797749979 2.23606797749979\n"
     ]
    }
   ],
   "source": [
    "print(a,b,c,d,e,f,g,h) #5+2-1, 5*2, 5/2, 5//2, 5%2, 5**2, 5**0.5, 5**(1/2)"
   ]
  },
  {
   "cell_type": "code",
   "execution_count": 4,
   "id": "27f93ce6",
   "metadata": {},
   "outputs": [
    {
     "name": "stdout",
     "output_type": "stream",
     "text": [
      "hello+world+there-uuah\n",
      "hello-world-there\n"
     ]
    }
   ],
   "source": [
    "print(\"hello\", \"world\", \"there\", sep='+', end='-uuah\\n') \n",
    "print(\"hello\", \"world\", \"there\", sep='-', end='\\n')"
   ]
  },
  {
   "cell_type": "markdown",
   "id": "524b962f",
   "metadata": {},
   "source": [
    "comment\n"
   ]
  },
  {
   "cell_type": "code",
   "execution_count": 8,
   "id": "ededb0f2",
   "metadata": {},
   "outputs": [
    {
     "name": "stdout",
     "output_type": "stream",
     "text": [
      "lorem ipsum dolor sit amet, consectetur adipiscing elit, \n",
      "sed do eiusmod tempor incididunt ut labore et dolore \n",
      "magna aliqua. \n",
      "\n",
      "Ut enim ad minim veniam, quis nostrud exercitation ullamco \n",
      "laboris nisi ut aliquip ex ea commodo consequat. Duis aute \n",
      "irure dolor in reprehenderit in voluptate velit esse cillum \n",
      "dolore eu fugiat nulla pariatur. Excepteur sint occaecat \n",
      "cupidatat non proident, sunt in culpa qui officia deserunt \n",
      "mollit anim id est laborum.\n"
     ]
    }
   ],
   "source": [
    "a='''lorem ipsum dolor sit amet, consectetur adipiscing elit, \n",
    "sed do eiusmod tempor incididunt ut labore et dolore \n",
    "magna aliqua. \n",
    "\n",
    "Ut enim ad minim veniam, quis nostrud exercitation ullamco \n",
    "laboris nisi ut aliquip ex ea commodo consequat. Duis aute \n",
    "irure dolor in reprehenderit in voluptate velit esse cillum \n",
    "dolore eu fugiat nulla pariatur. Excepteur sint occaecat \n",
    "cupidatat non proident, sunt in culpa qui officia deserunt \n",
    "mollit anim id est laborum.'''\n",
    "\n",
    "print(a) #multiline string"
   ]
  },
  {
   "cell_type": "code",
   "execution_count": 9,
   "id": "8a3b4c26",
   "metadata": {},
   "outputs": [
    {
     "name": "stdout",
     "output_type": "stream",
     "text": [
      "lorem ipsum dolor sit amet, consectetur adipiscing elit, \n",
      "sed do eiusmod tempor incididunt ut labore et dolore \n",
      "magna aliqua. \n",
      "\n",
      "Ut enim ad minim veniam, quis nostrud exercitation ullamco \n",
      "laboris nisi ut aliquip ex ea commodo consequat. Duis aute \n",
      "irure dolor in reprehenderit in voluptate velit esse cillum \n",
      "dolore eu fugiat nulla pariatur. Excepteur sint occaecat \n",
      "cupidatat non proident, sunt in culpa qui officia deserunt \n",
      "mollit anim id est laborum.\n"
     ]
    }
   ],
   "source": [
    "a=\"\"\"lorem ipsum dolor sit amet, consectetur adipiscing elit, \n",
    "sed do eiusmod tempor incididunt ut labore et dolore \n",
    "magna aliqua. \n",
    "\n",
    "Ut enim ad minim veniam, quis nostrud exercitation ullamco \n",
    "laboris nisi ut aliquip ex ea commodo consequat. Duis aute \n",
    "irure dolor in reprehenderit in voluptate velit esse cillum \n",
    "dolore eu fugiat nulla pariatur. Excepteur sint occaecat \n",
    "cupidatat non proident, sunt in culpa qui officia deserunt \n",
    "mollit anim id est laborum.\"\"\"\n",
    "\n",
    "print(a) #multiline string"
   ]
  },
  {
   "cell_type": "markdown",
   "id": "ded8531e",
   "metadata": {},
   "source": [
    "Branching"
   ]
  },
  {
   "cell_type": "code",
   "execution_count": null,
   "id": "cd29b01e",
   "metadata": {},
   "outputs": [],
   "source": [
    "#Example of branching \n",
    "#Basic Branching\n",
    "\n",
    "x = 10\n",
    "\n",
    "if x > 0:\n",
    "    print(\"x is positive\")\n",
    "elif x == 0:  #elif/else if\n",
    "    print(\"x is zero\")\n",
    "else:\n",
    "    print(\"x is negative\")"
   ]
  },
  {
   "cell_type": "code",
   "execution_count": 1,
   "id": "0b7c88d4",
   "metadata": {},
   "outputs": [
    {
     "name": "stdout",
     "output_type": "stream",
     "text": [
      "z is greater than 10 and even\n"
     ]
    }
   ],
   "source": [
    "# Example 3: Nested if statements\n",
    "z = 20\n",
    "\n",
    "if z > 10:\n",
    "    if z % 2 == 0:\n",
    "        print(\"z is greater than 10 and even\")\n",
    "    else:\n",
    "        print(\"z is greater than 10 and odd\")\n",
    "else:\n",
    "    print(\"z is 10 or less\")\n",
    "\n"
   ]
  },
  {
   "cell_type": "markdown",
   "id": "b480a21c",
   "metadata": {},
   "source": [
    "Branching- and/or"
   ]
  },
  {
   "cell_type": "code",
   "execution_count": null,
   "id": "6e6da067",
   "metadata": {},
   "outputs": [
    {
     "name": "stdout",
     "output_type": "stream",
     "text": [
      "a is a single-digit positive number\n"
     ]
    }
   ],
   "source": [
    "# Example 4: Using logical operators in conditions\n",
    "a = 7\n",
    "\n",
    "if a > 0 and a < 10:  # 1)and operator & 2)or operator\n",
    "    print(\"a is a single-digit positive number\")\n",
    "else:\n",
    "    print(\"a is not a single-digit positive number\")\n",
    "\n"
   ]
  },
  {
   "cell_type": "code",
   "execution_count": 7,
   "id": "22267d80",
   "metadata": {},
   "outputs": [
    {
     "name": "stdout",
     "output_type": "stream",
     "text": [
      "b is odd\n"
     ]
    }
   ],
   "source": [
    "# Example 5: Ternary operator (short-hand for if-else)  #professional way\n",
    "b = 25\n",
    "result = \"b is even\" if b % 2 == 0 else \"b is odd\"\n",
    "print(result)"
   ]
  },
  {
   "cell_type": "code",
   "execution_count": 16,
   "id": "1fc81f4c",
   "metadata": {},
   "outputs": [
    {
     "name": "stdout",
     "output_type": "stream",
     "text": [
      "Boss\n"
     ]
    }
   ],
   "source": [
    "S=\"Ashabul Yamin\"\n",
    "result = \"Boss\" if S[0] == \"A\" and S[-1] == \"n\" else \"Not Boss\"\n",
    "print(result)"
   ]
  },
  {
   "cell_type": "code",
   "execution_count": null,
   "id": "dad0ea05",
   "metadata": {},
   "outputs": [
    {
     "name": "stdout",
     "output_type": "stream",
     "text": [
      "n\n",
      "i\n",
      "A\n"
     ]
    }
   ],
   "source": [
    "S=\"Ashabul Yamin\"\n",
    "\n",
    "print(S[-1])   #last character of string s[-1]\n",
    "print(S[-2])  #second last character of string s[-2]\n",
    "print(S[0])   #first character of string"
   ]
  },
  {
   "cell_type": "code",
   "execution_count": 28,
   "id": "d6f76e9b",
   "metadata": {},
   "outputs": [
    {
     "name": "stdout",
     "output_type": "stream",
     "text": [
      "a is a vowel\n"
     ]
    }
   ],
   "source": [
    "# Example 6: Checking membership with 'in'\n",
    "char = 'a'\n",
    "vowels = 'aeiou'\n",
    "\n",
    "if char in vowels:\n",
    "    print(f\"{char} is a vowel\")\n",
    "else:\n",
    "    print(f\"{char} is not a vowel\")\n",
    "\n",
    "\n"
   ]
  },
  {
   "cell_type": "code",
   "execution_count": 27,
   "id": "cb0de49a",
   "metadata": {},
   "outputs": [],
   "source": [
    "# Example 7: Using pass in if statements\n",
    "# The pass statement is a placeholder for future code.\n",
    "c = 10\n",
    "\n",
    "if c > 0:\n",
    "    pass  # Placeholder for future code\n",
    "else:\n",
    "    print(\"c is not positive\")"
   ]
  },
  {
   "cell_type": "markdown",
   "id": "ca59e1f5",
   "metadata": {},
   "source": [
    "end 1st day\n"
   ]
  }
 ],
 "metadata": {
  "kernelspec": {
   "display_name": "base",
   "language": "python",
   "name": "python3"
  },
  "language_info": {
   "codemirror_mode": {
    "name": "ipython",
    "version": 3
   },
   "file_extension": ".py",
   "mimetype": "text/x-python",
   "name": "python",
   "nbconvert_exporter": "python",
   "pygments_lexer": "ipython3",
   "version": "3.12.7"
  }
 },
 "nbformat": 4,
 "nbformat_minor": 5
}
