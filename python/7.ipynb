{
 "cells": [
  {
   "cell_type": "code",
   "execution_count": 3,
   "id": "d066ce1e",
   "metadata": {},
   "outputs": [],
   "source": [
    "class Solution:\n",
    "    def solve(self):\n",
    "        # Write your code here\n",
    "        pass"
   ]
  },
  {
   "cell_type": "markdown",
   "id": "38ac0f86",
   "metadata": {},
   "source": [
    "while"
   ]
  },
  {
   "cell_type": "code",
   "execution_count": 4,
   "id": "e7feb6f3",
   "metadata": {},
   "outputs": [
    {
     "name": "stdout",
     "output_type": "stream",
     "text": [
      "1: All izz well\n",
      "2: All izz well\n",
      "3: All izz well\n",
      "4: All izz well\n",
      "5: All izz well\n",
      "6: All izz well\n",
      "7: All izz well\n",
      "8: All izz well\n",
      "9: All izz well\n",
      "10: All izz well\n"
     ]
    }
   ],
   "source": [
    "ct=1\n",
    "while ct<=10:\n",
    "    print(ct, \"All izz well\", sep=\": \")\n",
    "    ct+=1\n",
    "    "
   ]
  },
  {
   "cell_type": "code",
   "execution_count": 5,
   "id": "b835e924",
   "metadata": {},
   "outputs": [
    {
     "name": "stdout",
     "output_type": "stream",
     "text": [
      "For loop iteration: 1\n",
      "For loop iteration: 2\n",
      "For loop iteration: 3\n",
      "For loop iteration: 4\n",
      "For loop iteration: 5\n",
      "While loop iteration: 1\n",
      "While loop iteration: 2\n",
      "While loop iteration: 3\n",
      "While loop iteration: 4\n",
      "While loop iteration: 5\n",
      "Nested loop - Outer: 1, Inner: 1\n",
      "Nested loop - Outer: 1, Inner: 2\n",
      "Nested loop - Outer: 1, Inner: 3\n",
      "Nested loop - Outer: 2, Inner: 1\n",
      "Nested loop - Outer: 2, Inner: 2\n",
      "Nested loop - Outer: 2, Inner: 3\n",
      "Nested loop - Outer: 3, Inner: 1\n",
      "Nested loop - Outer: 3, Inner: 2\n",
      "Nested loop - Outer: 3, Inner: 3\n"
     ]
    }
   ],
   "source": [
    "# For loop example\n",
    "for i in range(1, 6):\n",
    "    print(f\"For loop iteration: {i}\")\n",
    "\n",
    "# While loop example\n",
    "counter = 1\n",
    "while counter <= 5:\n",
    "    print(f\"While loop iteration: {counter}\")\n",
    "    counter += 1\n",
    "\n",
    "# Nested loop example\n",
    "for i in range(1, 4):\n",
    "    for j in range(1, 4):\n",
    "        print(f\"Nested loop - Outer: {i}, Inner: {j}\")"
   ]
  },
  {
   "cell_type": "code",
   "execution_count": 6,
   "id": "5effb876",
   "metadata": {},
   "outputs": [
    {
     "name": "stdout",
     "output_type": "stream",
     "text": [
      "*\n",
      "**\n",
      "***\n",
      "****\n",
      "*****\n"
     ]
    }
   ],
   "source": [
    "n=5\n",
    "i=1\n",
    "while i<=n:\n",
    "    print(\"*\" * i)\n",
    "    i += 1"
   ]
  },
  {
   "cell_type": "code",
   "execution_count": 7,
   "id": "d080d0b7",
   "metadata": {},
   "outputs": [
    {
     "name": "stdout",
     "output_type": "stream",
     "text": [
      "1\n",
      "3\n",
      "5\n",
      "7\n",
      "9\n"
     ]
    }
   ],
   "source": [
    "i=10\n",
    "for i in range(1,11,2):   #2 is distances\n",
    "    print(i)"
   ]
  },
  {
   "cell_type": "code",
   "execution_count": 8,
   "id": "953d9c55",
   "metadata": {},
   "outputs": [
    {
     "data": {
      "text/plain": [
       "[1, 3, 5, 7, 9]"
      ]
     },
     "execution_count": 8,
     "metadata": {},
     "output_type": "execute_result"
    }
   ],
   "source": [
    "list(range(1,11,2))   #2 is distances"
   ]
  },
  {
   "cell_type": "code",
   "execution_count": 9,
   "id": "70cb5e9a",
   "metadata": {},
   "outputs": [
    {
     "name": "stdout",
     "output_type": "stream",
     "text": [
      "1 9 25 49 81 "
     ]
    }
   ],
   "source": [
    "for i in range(1,11,2): #process: 1+2=3, 3+2=5, 5+2=7, 7+2=9\n",
    "    print(i**2, end=\" \")"
   ]
  },
  {
   "cell_type": "code",
   "execution_count": 10,
   "id": "d5a4acd1",
   "metadata": {},
   "outputs": [
    {
     "name": "stdout",
     "output_type": "stream",
     "text": [
      "729 343 125 27 1 "
     ]
    }
   ],
   "source": [
    "#print cubes of all odd numbers from 10 to 1\n",
    "\n",
    "for i in range(9,0,-2):  #process: 9+(-2)=7, 7+(-2)=5, 5+(-2)=3, 3+(-2)=1\n",
    "    print(i**3, end=\" \")"
   ]
  },
  {
   "cell_type": "markdown",
   "id": "65f5b892",
   "metadata": {},
   "source": [
    "* Sum Of Digit "
   ]
  },
  {
   "cell_type": "code",
   "execution_count": 11,
   "id": "2c4b5953",
   "metadata": {},
   "outputs": [],
   "source": [
    "Input: 749\n",
    "Output: 20"
   ]
  },
  {
   "cell_type": "code",
   "execution_count": 12,
   "id": "307c9434",
   "metadata": {},
   "outputs": [
    {
     "name": "stdout",
     "output_type": "stream",
     "text": [
      "20\n"
     ]
    }
   ],
   "source": [
    "n=749\n",
    "sum=0\n",
    "while n>0:\n",
    "    digit=n%10\n",
    "    sum+=digit\n",
    "    n=n//10\n",
    "print(sum)"
   ]
  },
  {
   "cell_type": "code",
   "execution_count": 14,
   "id": "3df1ab89",
   "metadata": {},
   "outputs": [
    {
     "name": "stdout",
     "output_type": "stream",
     "text": [
      "1 2 3 4 \n",
      "1 2 3 \n",
      "1 2 \n",
      "1 \n"
     ]
    }
   ],
   "source": [
    "for i in range(4, 0, -1):\n",
    "        for j in range(1, i + 1):\n",
    "            print(j, end=' ')\n",
    "        print()  # Add a newline after each inner loop"
   ]
  },
  {
   "cell_type": "code",
   "execution_count": null,
   "id": "3de2b01a",
   "metadata": {},
   "outputs": [],
   "source": []
  }
 ],
 "metadata": {
  "kernelspec": {
   "display_name": "base",
   "language": "python",
   "name": "python3"
  },
  "language_info": {
   "codemirror_mode": {
    "name": "ipython",
    "version": 3
   },
   "file_extension": ".py",
   "mimetype": "text/x-python",
   "name": "python",
   "nbconvert_exporter": "python",
   "pygments_lexer": "ipython3",
   "version": "3.12.7"
  }
 },
 "nbformat": 4,
 "nbformat_minor": 5
}
